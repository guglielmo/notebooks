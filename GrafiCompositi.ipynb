{
 "cells": [
  {
   "cell_type": "markdown",
   "metadata": {},
   "source": [
    "# Abstract\n",
    "This notebook shows ho to generate a composite graph, out of many subgraphs requested in succession to a Neo4j DBMS.\n",
    "\n",
    "The method can be useful whenever the user must generate a single graph, limiting the connected nodes with complex limitations, using functionalities currently not supported by the cypher language.\n",
    "\n",
    "The context is that of a web application, where a server component performs the extractions from Neo4J and transforms or aggregated the extracted graphs, before sending the results to the client for visualisation or further analysis.\n",
    "\n",
    "As an example, consider extracting top N elements from N different types of nodes, connected to a determined node.\n",
    "\n",
    "In the context of parliamentary activity, considering a given Issue, and all connected Legislative Acts, Meetings, and Stakeholders, if whe have these relations:\n",
    "- (Act)-[:IS_ABOUT]->(Issue)\n",
    "- (Meeting)-[:IS_ABOUT]->(Issue)\n",
    "- (Stakeholder)-[:FOLLOWS]->(Issue)\n",
    "\n",
    "then trying to extract these nodes:\n",
    "- last 10 Acts, ordered by last activity date,\n",
    "- last 10 Meetings\n",
    "- top 20 relevant Stakeholders\n",
    "\n",
    "is a complex task, for a single cypher expression.\n",
    "\n",
    "Subdividing the task into 4 different simple extractions, and merging the resulting graphs, helps obtaining the desired result."
   ]
  },
  {
   "cell_type": "markdown",
   "metadata": {},
   "source": [
    "# Architecture\n",
    "[py2neo](http://py2neo.org/v3/index.html) will be used, as it allows working with `py2neo.Subgraph`s.\n",
    "\n",
    "The connection to the Neo4J instance is made to the localhost, through the _bolt_ protocol, using authentication."
   ]
  },
  {
   "cell_type": "code",
   "execution_count": 1,
   "metadata": {
    "collapsed": false
   },
   "outputs": [],
   "source": [
    "from py2neo import Graph, Subgraph\n",
    "from py2neo import types"
   ]
  },
  {
   "cell_type": "code",
   "execution_count": 2,
   "metadata": {
    "collapsed": true
   },
   "outputs": [],
   "source": [
    "graph = Graph(\"bolt://localhost\", username=\"neo4j\", password=\"admin\")"
   ]
  },
  {
   "cell_type": "markdown",
   "metadata": {},
   "source": [
    "Graphs are extracted through a call to `py2neo.graph.data`, that allows to work easily with the results using flexible data structures.\n",
    "\n",
    "The first extraction gets the Issues (Macro and Micro), connected to a given Customer."
   ]
  },
  {
   "cell_type": "code",
   "execution_count": 3,
   "metadata": {
    "collapsed": true
   },
   "outputs": [],
   "source": [
    "results = graph.data(\n",
    "\"\"\"\n",
    "match (c:Cliente {id_cliente: 59})\n",
    "match (tc:TemaMicro {id_tema: 169})\n",
    "match (c)-[c_tc:SI_OCCUPA]->(tc)-[t_tc:FIGLIO]->(t:TemaMacro)\n",
    "return c, tc, c_tc, t_tc\n",
    "\"\"\"\n",
    ")"
   ]
  },
  {
   "cell_type": "markdown",
   "metadata": {},
   "source": [
    "The following snippet will build the `nodes` and `rels` lists, which are going to be used to build a `py2neo.Subgraph`."
   ]
  },
  {
   "cell_type": "code",
   "execution_count": 4,
   "metadata": {
    "collapsed": false
   },
   "outputs": [],
   "source": [
    "nodes = []\n",
    "rels = []\n",
    "for rec in results:\n",
    "    for k, item in rec.items():\n",
    "        if type(item) == types.Node:\n",
    "            nodes.append(item)\n",
    "        elif type(item) == types.Relationship:\n",
    "            rels.append(item)\n",
    "        else:\n",
    "            print(type(item))\n",
    "            \n",
    "jti_issue_169 = Subgraph(nodes, rels)"
   ]
  },
  {
   "cell_type": "markdown",
   "metadata": {},
   "source": [
    "The same operations are then performed to fetch connected Acts, limiting the result to the last 10, according to a given property wishin the nodes, and leaving the rest of the graph out (only tc is returned)."
   ]
  },
  {
   "cell_type": "code",
   "execution_count": 5,
   "metadata": {
    "collapsed": false
   },
   "outputs": [],
   "source": [
    "results = graph.data(\n",
    "\"\"\"\n",
    "match (c:Cliente {id_cliente: 59})\n",
    "match (tc:TemaMicro {id_tema: 169})\n",
    "match (c)-[c_tc:SI_OCCUPA]->(tc)<-[tc_pr:RIGUARDA]-(pr:Provvedimento)\n",
    "with tc, pr, tc_pr order by pr.data_ultimo_rapporto desc limit 10\n",
    "return tc, pr, tc_pr\n",
    "\"\"\")\n",
    "\n",
    "nodes = []\n",
    "rels = []\n",
    "for rec in results:\n",
    "    for k, item in rec.items():\n",
    "        if type(item) == types.Node:\n",
    "            nodes.append(item)\n",
    "        elif type(item) == types.Relationship:\n",
    "            rels.append(item)\n",
    "        else:\n",
    "            print(type(item))\n",
    "            \n",
    "jti_top10_provv_issue_169 = Subgraph(nodes, rels)"
   ]
  },
  {
   "cell_type": "markdown",
   "metadata": {},
   "source": [
    "The 2 subgraphs can now be **merged** using the set operator `|`."
   ]
  },
  {
   "cell_type": "code",
   "execution_count": 6,
   "metadata": {
    "collapsed": false
   },
   "outputs": [],
   "source": [
    "jti = jti_issue_169 | jti_top10_provv_issue_169"
   ]
  },
  {
   "cell_type": "markdown",
   "metadata": {},
   "source": [
    "The resulting graph can easily be analyzed and transformed."
   ]
  },
  {
   "cell_type": "code",
   "execution_count": 7,
   "metadata": {
    "collapsed": false
   },
   "outputs": [],
   "source": [
    "n0 = list(jti.nodes())[0]"
   ]
  },
  {
   "cell_type": "code",
   "execution_count": 8,
   "metadata": {
    "collapsed": false
   },
   "outputs": [
    {
     "data": {
      "text/plain": [
       "{'alias': 'DDL Consenso informato',\n",
       " 'aula': 'camera',\n",
       " 'data_presentazione': '2013-07-29',\n",
       " 'data_ultimo_report': '2017-01-10',\n",
       " 'firmatari': ['On.Delia Murer'],\n",
       " 'id_provvedimento': 3742,\n",
       " 'iniziativa': 'Parlamentare',\n",
       " 'lettura': '',\n",
       " 'name': 'DDL Consenso informato',\n",
       " 'numero': 'AC 1432',\n",
       " 'relevance': 0.34741476799062865,\n",
       " 'sede': '',\n",
       " 'status': '',\n",
       " 'titolo': ''}"
      ]
     },
     "execution_count": 8,
     "metadata": {},
     "output_type": "execute_result"
    }
   ],
   "source": [
    "dict(n0)"
   ]
  },
  {
   "cell_type": "code",
   "execution_count": 9,
   "metadata": {
    "collapsed": false
   },
   "outputs": [],
   "source": [
    "r0 = list(jti.relationships())[0]"
   ]
  },
  {
   "cell_type": "code",
   "execution_count": 10,
   "metadata": {
    "collapsed": false
   },
   "outputs": [
    {
     "data": {
      "text/plain": [
       "{'clienti': []}"
      ]
     },
     "execution_count": 10,
     "metadata": {},
     "output_type": "execute_result"
    }
   ],
   "source": [
    "dict(r0)"
   ]
  },
  {
   "cell_type": "markdown",
   "metadata": {},
   "source": [
    "# Function\n",
    "The following function returns a `py2neo.subgraph`, starting from a cypher query.\n",
    "\n",
    "Due to internal workings of the `Subgraph` class the query must return at least one node, \n",
    "or an exception will be raised."
   ]
  },
  {
   "cell_type": "code",
   "execution_count": 11,
   "metadata": {
    "collapsed": true
   },
   "outputs": [],
   "source": [
    "def get_subgraph(query, params=None):\n",
    "    \"\"\" Estrae un `py2neo.Subgraph` a partire da una query cypher.\n",
    "    Può essere usato per effettuare dei merge e generare dei grafi compositi.\n",
    "\n",
    "    E' necessario che sia presenta almeno un nodo, altrimenti la funzione ritorna\n",
    "    un errore.\n",
    "\n",
    "    :param query:  La query cypher\n",
    "    :param params: I parametri della query, se necessari\n",
    "    :return:       Il subgrafo\n",
    "    :rtype:        `py2neo.Subgraph`\n",
    "    \"\"\"\n",
    "    results = graph.data(query, params)\n",
    "\n",
    "    nodes = []\n",
    "    rels = []\n",
    "    for rec in results:\n",
    "        for k, item in rec.items():\n",
    "            if type(item) == types.Node:\n",
    "                nodes.append(item)\n",
    "            elif type(item) == types.Relationship:\n",
    "                rels.append(item)\n",
    "    if nodes:\n",
    "        return Subgraph(nodes, rels)    \n",
    "    else:\n",
    "        raise Exception(\"At least one node is required\")"
   ]
  },
  {
   "cell_type": "code",
   "execution_count": 12,
   "metadata": {
    "collapsed": false
   },
   "outputs": [],
   "source": [
    "cid = 59\n",
    "tid = 169\n",
    "microtema = get_subgraph(\"\"\"\n",
    "    match (c:Cliente)\n",
    "    match (tc:TemaMicro)\n",
    "    where c.id_cliente={cid} and tc.id_tema={tid}\n",
    "    match (c)-[c_tc:SI_OCCUPA]->(tc)-[t_tc:FIGLIO]->(t:TemaMacro)\n",
    "    return c, tc, c_tc, t_tc, t\n",
    "\"\"\", params={'cid': cid, 'tid': tid}\n",
    ")\n",
    "provv = get_subgraph(\"\"\"\n",
    "    match (c:Cliente)\n",
    "    match (tc:TemaMicro)\n",
    "    where c.id_cliente={cid} and tc.id_tema={tid}\n",
    "    match (c)-[c_tc:SI_OCCUPA]->(tc)<-[tc_pr:RIGUARDA]-(pr:Provvedimento)\n",
    "    with tc, pr, tc_pr order by pr.data_ultimo_rapporto desc limit 10\n",
    "    return tc, pr, tc_pr\n",
    "\"\"\", params={'cid': cid, 'tid': tid}\n",
    ")\n",
    "incontri = get_subgraph(\"\"\"\n",
    "    match (c:Cliente)\n",
    "    match (tc:TemaMicro)\n",
    "    where c.id_cliente={cid} and tc.id_tema={tid}\n",
    "    match (c)-[c_tc:SI_OCCUPA]->(tc)<-[tc_i:RIGUARDA]-(i:Incontro)\n",
    "    with tc, i, tc_i order by i.data desc limit 10\n",
    "    return tc, i, tc_i\n",
    "\"\"\", params={'cid': cid, 'tid': tid}\n",
    ")\n",
    "persone = get_subgraph(\"\"\"\n",
    "    match (c:Cliente)\n",
    "    match (tc:TemaMicro)\n",
    "    where c.id_cliente={cid} and tc.id_tema={tid}\n",
    "    match (c)-[c_tc:SI_OCCUPA]->(tc)-[t_tc:FIGLIO]->(t:TemaMacro)\n",
    "    optional match (tc)<-[tc_p:SI_OCCUPA]-(p:Persona)\n",
    "    return t, t_tc, tc, tc_p, p order by p.relevance desc limit 20\n",
    "\"\"\", params={'cid': cid, 'tid': tid}\n",
    ")"
   ]
  },
  {
   "cell_type": "code",
   "execution_count": 13,
   "metadata": {
    "collapsed": false
   },
   "outputs": [],
   "source": [
    "composite = microtema | provv | incontri | persone"
   ]
  },
  {
   "cell_type": "code",
   "execution_count": 14,
   "metadata": {
    "collapsed": false
   },
   "outputs": [
    {
     "data": {
      "text/plain": [
       "[(ff8f026)-[:RIGUARDA {clienti:[]}]->(d31220f),\n",
       " (b37cf42)-[:RIGUARDA {clienti:[]}]->(d31220f),\n",
       " (e6d0fb2)-[:RIGUARDA]->(d31220f),\n",
       " (bb506e0)-[:RIGUARDA {clienti:[]}]->(d31220f),\n",
       " (c4d4188)-[:RIGUARDA {clienti:[]}]->(d31220f),\n",
       " (a613bb0)-[:RIGUARDA]->(d31220f),\n",
       " (c38385e)-[:RIGUARDA {clienti:[]}]->(d31220f),\n",
       " (cbc2439)-[:RIGUARDA {clienti:[]}]->(d31220f),\n",
       " (e8843bf)-[:RIGUARDA {clienti:[]}]->(d31220f),\n",
       " (c348a5d)-[:RIGUARDA {clienti:[]}]->(d31220f),\n",
       " (b095c4d)-[:RIGUARDA]->(d31220f),\n",
       " (c9f03e9)-[:RIGUARDA]->(d31220f),\n",
       " (ec54803)-[:RIGUARDA {clienti:[]}]->(d31220f),\n",
       " (ffa77eb)-[:RIGUARDA]->(d31220f),\n",
       " (b4c057c)-[:RIGUARDA]->(d31220f),\n",
       " (d31220f)-[:FIGLIO]->(c365ea4),\n",
       " (cfd2b19)-[:SI_OCCUPA {valore:\"0\"}]->(d31220f),\n",
       " (aaa54cc)-[:RIGUARDA {clienti:[]}]->(d31220f),\n",
       " (ceb5de1)-[:RIGUARDA]->(d31220f),\n",
       " (fe09e46)-[:RIGUARDA]->(d31220f),\n",
       " (c777551)-[:RIGUARDA]->(d31220f),\n",
       " (bd4f895)-[:RIGUARDA]->(d31220f)]"
      ]
     },
     "execution_count": 14,
     "metadata": {},
     "output_type": "execute_result"
    }
   ],
   "source": [
    "list(composite.relationships())"
   ]
  }
 ],
 "metadata": {
  "kernelspec": {
   "display_name": "Python 3",
   "language": "python",
   "name": "python3"
  },
  "language_info": {
   "codemirror_mode": {
    "name": "ipython",
    "version": 3
   },
   "file_extension": ".py",
   "mimetype": "text/x-python",
   "name": "python",
   "nbconvert_exporter": "python",
   "pygments_lexer": "ipython3",
   "version": "3.5.2"
  }
 },
 "nbformat": 4,
 "nbformat_minor": 0
}
